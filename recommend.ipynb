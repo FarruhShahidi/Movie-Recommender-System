{
 "cells": [
  {
   "cell_type": "code",
   "execution_count": 12,
   "metadata": {},
   "outputs": [],
   "source": [
    "# ML libraries\n",
    "import numpy as np\n",
    "import pandas as pd\n",
    "from sklearn.feature_extraction.text import CountVectorizer\n",
    "from sklearn.metrics.pairwise import cosine_similarity\n",
    "\n",
    "# web scraping\n",
    "import bs4 as bs\n",
    "import urllib.request\n"
   ]
  },
  {
   "cell_type": "code",
   "execution_count": 13,
   "metadata": {},
   "outputs": [],
   "source": [
    "def create_df_and_similarty():\n",
    "    df = pd.read_csv('all_movies.csv')\n",
    "    # creating a count matrix\n",
    "    cv = CountVectorizer()\n",
    "    count_matrix = cv.fit_transform(df['all_cast'].values.astype('U'))\n",
    "    # creating a similarity score matrix\n",
    "    similarity = cosine_similarity(count_matrix)\n",
    "    return df, similarity"
   ]
  },
  {
   "cell_type": "code",
   "execution_count": 14,
   "metadata": {},
   "outputs": [],
   "source": [
    "\n",
    "def recommend_movie(movie):\n",
    "    movie = movie.lower()\n",
    "\n",
    "    df, similarity = create_df_and_similarty()\n",
    "    if movie not in df['movie_title'].unique():\n",
    "        return('Sorry, there is no such a movie')\n",
    "    else:\n",
    "        ind = df.loc[df['movie_title']==movie].index[0]\n",
    "        lst = list(enumerate(similarity[ind]))\n",
    "        lst = sorted(lst, key=lambda x:x[1], reverse=True)\n",
    "        top_10 = lst[1:11]\n",
    "        recommended_movies = []\n",
    "        for i in range(len(top_10)):\n",
    "            \n",
    "            recommended_movies.append(df['movie_title'][top_10[i][0]])\n",
    "        \n",
    "        return recommended_movies"
   ]
  },
  {
   "cell_type": "code",
   "execution_count": 55,
   "metadata": {
    "scrolled": true
   },
   "outputs": [
    {
     "data": {
      "text/plain": [
       "['the strange ones',\n",
       " 'stratton',\n",
       " 'sweet country',\n",
       " 'the commuter',\n",
       " 'proud mary',\n",
       " 'acts of violence',\n",
       " 'freak show',\n",
       " 'humor me',\n",
       " 'vazante',\n",
       " \"mary and the witch's flower\"]"
      ]
     },
     "execution_count": 55,
     "metadata": {},
     "output_type": "execute_result"
    }
   ],
   "source": [
    "recommend_movie('underwater')"
   ]
  },
  {
   "cell_type": "code",
   "execution_count": 56,
   "metadata": {},
   "outputs": [
    {
     "data": {
      "text/plain": [
       "'Sorry, there is no such a movie'"
      ]
     },
     "execution_count": 56,
     "metadata": {},
     "output_type": "execute_result"
    }
   ],
   "source": [
    "recommend_movie('hisnbfn')"
   ]
  },
  {
   "cell_type": "code",
   "execution_count": 45,
   "metadata": {},
   "outputs": [],
   "source": [
    "import pickle\n",
    "import requests\n",
    "from tmdbv3api import TMDb\n",
    "tmdb = TMDb()\n",
    "tmdb.api_key = '2239848dd3e0d8e43cf2add39e687057'\n",
    "from tmdbv3api import Movie\n",
    " "
   ]
  },
  {
   "cell_type": "code",
   "execution_count": 46,
   "metadata": {},
   "outputs": [],
   "source": [
    "file = 'nlp.pkl'\n",
    "RFC = pickle.load(open(file, 'rb'))\n",
    "vectorizer = pickle.load(open('tranform.pkl','rb'))"
   ]
  },
  {
   "cell_type": "code",
   "execution_count": 52,
   "metadata": {},
   "outputs": [],
   "source": [
    " def get_reviews(movie):\n",
    "        tmdb_movie = Movie()\n",
    "        output = tmdb_movie.search(movie)\n",
    "        # get the movie id and  title\n",
    "        movie_id = output[0].id\n",
    "        movie_name = output[0].title\n",
    "\n",
    "        # get the response using the API\n",
    "        response = requests.get('https://api.themoviedb.org/3/movie/{}?api_key={}'.format(movie_id, tmdb.api_key))\n",
    "        response_json = response.json()\n",
    "        imdb_id = response_json['imdb_id']\n",
    "        \n",
    "    \n",
    "        # web scraping to get user reviews from the IMDB \n",
    "        sauce = urllib.request.urlopen('https://www.imdb.com/title/{}/reviews?ref_=tt_ov_rt'.format(imdb_id)).read()\n",
    "        soup = bs.BeautifulSoup(sauce, 'lxml')\n",
    "        soup_result = soup.find_all(\"div\", {\"class\": \"text show-more__control\"})\n",
    "\n",
    "        reviews_list = []  # list of reviews\n",
    "        reviews_status = []  # list of comments\n",
    "        for reviews in soup_result:\n",
    "            if reviews.string:\n",
    "                reviews_list.append(reviews.string)\n",
    "                # passing the review to our model\n",
    "                movie_review_list = np.array([reviews.string])\n",
    "                movie_vector = vectorizer.transform(movie_review_list)\n",
    "                pred = RFC.predict(movie_vector)\n",
    "                reviews_status.append('Amazing' if pred else 'Not so good')\n",
    "                # combining reviews and comments into dictionary\n",
    "            movie_reviews = {reviews_list[i]: reviews_status[i] for i in range(len(reviews_list))}\n",
    "        return  movie_reviews"
   ]
  },
  {
   "cell_type": "code",
   "execution_count": 53,
   "metadata": {},
   "outputs": [
    {
     "data": {
      "text/plain": [
       "{\"The film shares the same name as Asimov's novel, but with some adaptations. But in general, it doesn't break the three laws. This kind of science fiction film, which integrates human nature and ethics of science and technology, triggers our deep reflection. Human beings and robots have advantages and disadvantages, no matter when, in front of any biological species, we always have the freedom to choose.\": 'Amazing',\n",
       " '\"I, Robot\" was this year\\'s most entertaining Blockbuster: a lot of action, witty dialog and a fine plot. In fact, I thought the plot was so good that it was a waste to turn this project into a Will Smith vehicle. Not that he ruined the movie or anything but his funnyman performance - and the witty dialog - just kept the story from getting deep. So many other recent Blockbusters were unnecessarily lofty (*cough*SPIDER-MAN2*cough*MATRIX2&3*cough*cough*) and could have used some irony. With \"I, Robot\", however, it would have been a great idea to go for a more philosophical approach. The direction is very spectacular and fast paced, which isn\\'t a bad thing, but it doesn\\'t help to create an intriguing atmosphere, either. The special effects look great for the most parts, except when they are used to create landscapes. Sometimes a location looks like it was taken directly out of a video game. Anyway, \"I, Robot\" is a fantastic way to spend 90 minutes, but it\\'s no masterpiece and won\\'t be remembered among classics who deal with similar topics (\"Blade Runner\", \"The Terminator\", \"The Matrix 1\"). Pity. The potential was there.': 'Amazing',\n",
       " 'This movie was an absolute abomination. The original robot stories by Isaac Asimov were intellectual, compelling, and most of all, humane. This movie was generic, bland, and mechanistic. The characters were very flat, with Will Smith as a typical lone-wolf/obsessed detective delving into a conspiracy that keeps going higher and higher. The use of red lights to indicate evil robots and blue for good belied the simplicity of any philosophy in the film. The penultimate insult to the legacy of Asimov was the over-reliance on violence and flashy CGI to compensate for the underweight script. The best thing I can say about this picture is that the explosions were big, bright and loud.': 'Amazing',\n",
       " \"This is probably the most boring, worse and useless film I have seen last year. The plot that was meant to have some philosophical aspects emerged to me as a very bad hollow copy of the matrix, with plenty of clichés: the lone wolf cop, good looking, psychologically disturbed, sleeping with his gun... + nice hard worker and shy, but good looking she-scientist, you add a 2 cent plot and you have I, Robot! I was terribly disturbed by the obvious advertising of brands like FedEx,Audi,converse etc. This movie stinks the commercialization and tend to be more a poor ad spot that unfortunately will not end after 30 sec. I wouldn't recommend this to my worse enemy, if you have some spare time, watch a good TV program instead or better read a nice book.\": 'Amazing',\n",
       " \"In spite of the great future-design touches, the clever Asimov premise, and Will Smith's dependable cool performance, this movie doesn't live up to expectations. The clichés come thick and fast; (waking from a recurring nightmare, maverick cop has his badge revoked by hardass lieutenant, to list more would be spoiling it - you can see the end a mile off). This movie is also stagebound - you never feel that you have travelled anywhere; what's supposed to be a global disaster never leaves an obviously CGI Chicago. The robots themselves are good in closeup, but the 'crowd' scenes look more like bad Disney -the CGI is overdone again and again. And if you can destroy the robots by smashing them, why do they need to inject 'nanites'? You know it's a duff movie when stupid questions like that start to bother you before the climax. It could have been great, but it's less than the sum of its parts, mainly due to the utterly predictable plot that could have come from any action film of the last forty years.\": 'Not so good'}"
      ]
     },
     "execution_count": 53,
     "metadata": {},
     "output_type": "execute_result"
    }
   ],
   "source": [
    "get_reviews('I, Robot')"
   ]
  },
  {
   "cell_type": "code",
   "execution_count": 63,
   "metadata": {},
   "outputs": [],
   "source": [
    "def get_movie_with_reviews(movie):\n",
    "    recommended_movies = recommend_movie(movie)\n",
    "    pairs = []\n",
    "    for m in recommended_movies:\n",
    "        rev = get_reviews(m)\n",
    "        pairs.append([m, rev])\n",
    "    return pairs\n"
   ]
  },
  {
   "cell_type": "code",
   "execution_count": 64,
   "metadata": {},
   "outputs": [],
   "source": [
    "pairs = get_movie_with_reviews(\"X-Men: Days of Future Past\")"
   ]
  },
  {
   "cell_type": "code",
   "execution_count": 67,
   "metadata": {},
   "outputs": [
    {
     "data": {
      "text/plain": [
       "'x-men: apocalypse'"
      ]
     },
     "execution_count": 67,
     "metadata": {},
     "output_type": "execute_result"
    }
   ],
   "source": [
    "movie_1, review_1 = pairs[1]\n",
    "movie_1"
   ]
  },
  {
   "cell_type": "code",
   "execution_count": 68,
   "metadata": {},
   "outputs": [
    {
     "data": {
      "text/plain": [
       "{'Suffering from bizarre narrative choices and weak character development, X-Men: Apocalypse is an otherwise passable and occasionally great installment of the franchise, mainly due to the continued strong performances and glorious action set pieces.': 'Amazing',\n",
       " \"X-Men: Apocalypse is the sequel to Days of Future Past and takes place  about a decade later in the '80s. This movie entertained me from start  to finish and I can't say I was ever bored. But there are a lot of  things I was not satisfied with while watching. Starting off with the  good, Magneto and Professor X continue to be the best parts of these  movies. Michael Fassbender as Magneto is amazing and he has a really  emotional scene towards the beginning which got me locked into the  film. James McAvoy is also great as Xavier. The internal battles inside  Xavier's head were riveting. I really liked the new cast of the younger  X-Men, like Jean Grey, Storm, Nightcrawler, and Cyclops. Quicksilver  has another awesome scene just like the previous movie. The action is  handled very well for the most part. The first half of the movie is  terrific, but the second half brings it down.  Apocalypse as the villain was OK for me. Some scenes worked well and  others didn't. I was always skeptical of Oscar Isaac as Apocalypse and  I still don't think he was the best choice. He is just like Jesse  Eisenberg as Lex Luthor for me. Apocalypse is also a small mutant  compared to the others for some reason and he's just another villain  who is obsessed with destroying the world, and his motivations are  thin. Jennifer Lawrence was a boring Mystique. She just seems  uninspired throughout the run-time and becomes tedious since she uses  the personality over and over again to play the character. Some mutants  were completely wasted here with Psylocke and Angel. There's an entire  sequence in a secret lab and it seemed there for only one reason: the  cameo of a specific person. While it was fun to watch, it didn't do  much of anything for the story in the long run. The entire thing could  have been removed and the movie would have been the same. The final  battle felt underwhelming with the whole global extinction. The problem  is they don't show any civilians dying; it's just buildings coming  apart, making it hard to care about the situation.   Overall, X-Men: Apocalypse is a disappointing sequel to First Class and  Days of Future Past. But it is not at all a bad movie. Magneto and  Professor X are once again great, Apocalypse is a mixed bag, the pacing  for the movie is all over the place, and the dull second half just  brings the film down from the really good first half.  X-Men: Apocalypse gets a B-.\": 'Amazing',\n",
       " \"Okay, this is already the fourth superhero film we have gotten so far this year. The fact that it's this good blows my mind, it's the sixth entry in the main X-Men series, and it might be the third best after X2 and Days of Future Past. Oscar Isaac gives an outstanding performance as the mutant menace: Apocalypse, he was the highlight of the film right next to Fassbender's Magneto (who never fails to deliver). In a year with pathetic and disappointing superhero film villains so far, Apocalypse gives us the layered and threatening performance we want from our villains. Evan Peters returns as Quicksilver once more to give us an amazing scene that tops the one from Days of Future Past. The newcomers are fantastic and exciting and we will certainly see them again in the future. They also finally got Cyclops right! Forget about Rotten Tomatoes and go see this film opening weekend, you won't regret!\": 'Amazing',\n",
       " 'X-Men: Apocalypse was very fun, but got quite messy at parts. X-Men fans will like this just like I did. it is a huge step down from Days of Future Past and has a pretty clichéd villain. I forgave the clichéd villain because of how cool and how frightening he was. Oscar Isaac did so good as Apocalypse. The characters are well developed, but some of them do not get enough screen time and some get to much. Angel, Psyloche and Storm have no motivation, there is no reason why they agreed to help Apocalypse destroy the world. What would they gain? Overall I thought the movie was good, I had a blast watching it and will be watching it again.': 'Amazing',\n",
       " \"I've got to be honest. This was the comic book movie I was least looking forward to this year but I went to see it anyway because the trailers made it look decent. I didn't go in expecting much but I was surprised when I really enjoyed this movie. It is no where near as good as First Class and Days of Future Past but it is still worth your time. Apocalypse was a great villain and Oscar Isaacs played him brilliantly. I also didn't mind the costume that much (It could have been better though). Most of the cast was really good in the film (My favourite being Evan Peters as Quicksilver). However unfortunately Jennifer Lawrence was not at her best in this film. She just didn't have the enthusiasm and looked bored for most of the film. I also didn't really like the actress that played Jean Grey. I'm not sure what her name is but to me she was just kind of wooden and boring to watch. I do wish that they could have developed the horseman though (Not counting Magneto) because it seemed like they didn't have much reason to suddenly be bad (Especially Psylocke). The things this film sets up also gets you quite exited for future instalments. I definitely think it is a good thing that they seem to be re-doing The Dark Phoenix Saga and possibly introducing one of my favourite X-Men villains: Mr Sinister. Overall this film is enjoyable and any comic book fan will most likely enjoy it because it is still better than Batman Vs Superman.\": 'Amazing',\n",
       " \"I am horrified by the people on the message boards here on this movie's threads. They're fighting each other like a bunch of hungry animals. Since when does everyone started listening to the critics? I mean, yes, to have an idea before watching a movie is good, but that's not the case these days. Critics are taking movies way too seriously these days. It's just a source of entertainment. Your life does not depend on it. Stop bad mouthing this movie for others. Okay, sorry for my rant but this has gotten out of control. Now getting back to the movie, let's just say it delivered what it promised. This movie was amazing. It really felt like you were watching something Apocalyptic. Although I don't have had a problem with Bryan Singer's X Men movies, unlike a bunch of whiny babies, this one actually felt like it was an X Men movie. A sheer resemblance of what we saw in X Men cartoons, both evolution and the 1990 ones. We actually saw the main characters of this movie in their mutant form. I have loved how Bryan always preferred acting over action in his other movies, but this one, it consists of both. I have also seen critics saying that this movie is complete CGI. Well it's not like you can do actual Apocalyptic level scenes without having any CGI effects. That's just crazy. And the CGI in this movie is beyond awesome. I already smell an Oscar for CGI for this movie. Oscar Isaac was so impressive in this movie. Even though he was buried under make up and what not, you could actually feel his performance. Michael and James once again give awesome performances. Expected nothing less from Jennifer Lawrence. At least these movies actually give spotlight to the female actresses *cough* *Marvel* *cough*. The new actors were great. So talented. Tye, Sophie, Alexandra, Kodi and of course Evan Peters were all good in their respective roles. This movie might feel a different because of it's whole world at stake thing. This is the first time X Men has done this, and they succeed really good at it. It had a perfect balance of action, humor, emotion and mutants. It was like watching a live action version of those X Men cartoons we grew up watching. Once again, please dear my friends, who would love to see these guys in MCU, it's not happening anytime soon. Let's just get over it, okay? The producer of these movies has already announced a bunch of new movies under Fox. There are X Men TV shows coming out soon, so let us enjoy these while you guys enjoy yours okay?\": 'Amazing'}"
      ]
     },
     "execution_count": 68,
     "metadata": {},
     "output_type": "execute_result"
    }
   ],
   "source": [
    "review_1"
   ]
  },
  {
   "cell_type": "code",
   "execution_count": 69,
   "metadata": {},
   "outputs": [],
   "source": [
    "movie_0, review_0 = pairs[0]"
   ]
  },
  {
   "cell_type": "code",
   "execution_count": 70,
   "metadata": {},
   "outputs": [
    {
     "data": {
      "text/plain": [
       "'the chronicles of narnia: prince caspian'"
      ]
     },
     "execution_count": 70,
     "metadata": {},
     "output_type": "execute_result"
    }
   ],
   "source": [
    "movie_0"
   ]
  },
  {
   "cell_type": "code",
   "execution_count": 71,
   "metadata": {},
   "outputs": [
    {
     "data": {
      "text/plain": [
       "{\"I am a Narnia obsessed nerd, so of course I went to see it the night it was released. I had very high expectations because the first movie was so true to the book. However, with this film that wasn't the case. The screen play was pretty much completely rewritten and included only hints of the original story. I suppose Disney felt it necessary to add in lame typical movie elements that attract mainstream moviegoers. For example a sub-plot romance between Caspian and Susan and battles that never existed. This movie not only failed to develop the characters and events as well as the book, it changed the characters and situations that it did develop.\": 'Amazing',\n",
       " 'Since the Chronicles of Narnia are a series of widely read and revered books I had to give my first rating of a 1 for this film. We went opening night and I was very disappointed and my wife was in tears by the end because of her disappointment. So much of Lewis\\' humor was lost in favor of an action movie plot with running battles, some added that aren\\'t in the book while other important pieces from the book are left out. It became just one long tedious battle. And a romance between Caspian & Susan? We love those books so very, very much that it was painful to watch. Our children ages 21, 18 & 15, who were raised on Narnia, were not just disappointed but angry... My eldest daughter was livid. Her close friend whom we had introduced to Narnia just two years ago was very unhappy with what was left out of the film not to mention all that was added. My wife and I felt it was as if the person who wrote the screenplay hadn\\'t read the books at all. Two revealing things we noticed too were during the opening credits with Actors and Directors and Producers names in huge type, it seemed to us that \"From a book by C.S. Lewis\" was in much smaller type. Also, during the previews of coming attractions, there was another fantasy movie advertised and it had in large print, \"From a writer of the Chronicles of Narnia\". They must have been referring to a screenwriter, but it was very aggravating! There was only one author of the Chronicles of Narnia and it was C.S. Lewis! Interestingly, they decided to cast all the Telemarines as evil Spaniards. I found that fascinating and would like to know the rationale behind that? In the books, the girls do not participate as warriors, Aslan having said war is unpleasant and decidedly so if girls participate. However, in the movie, Susan is a major warrior and is seen leading Narnians and firing her arrows into Telemarines all over the place. At the final climax and their departure from Narnia, (she and Peter for the last time) she and Prince Caspian first exchange longing glances, which you\\'ve been aware of all throughout the film, and then they passionately kiss! I\\'m all for that of course, but not in this movie about this book... to quote a little boy who was sitting with his grandfather in front of us, \"That was yucky!\"': 'Amazing',\n",
       " \"I was completely disappointed with the movie. I've read Prince Caspian numerous times. The movie was terrible. It fundamentally changed many of the important characters. Aslan, the key character of the book, was emasculated. Peter, originally portrayed as true to Aslan throughout the story came across as a spoiled teenager. The scene in which the White Witch is nearly called back was terrible as well. In the book, neither Caspian nor Peter were tempted to bring her back. The invented romance between Caspian and Susan was awful as well. Don't waste the money on the movie. Buy the book, or get the Focus on the Family Radio Theatre version of Prince Caspian (and the rest of the Chronicles of Narnia).\": 'Not so good',\n",
       " 'This movie was pretty interesting to watch, but it had a lot of faults. Yet again, I feel like this movie had so much more potential- just like the first one. It often feels like I am watching a child\\'s version of Lord of the Rings. Yes, I know it is directed towards children, but kids don\\'t need cheesy comments or cheesy acting to enjoy a movie. Also, I don\\'t understand the dramatic female vocals towards the end of both movies. I don\\'t feel like it goes at all with the movie. This movie seemed to have something missing. All there was to it was the kids came back to Narnia, found out what was going on, fought a lot, and then left. The whole \"romance\" between Susan and Caspian was absolutely pointless. First of all, I think they spoke to each other about two or three times, and kept it brief. Then she left? They made it seem like all it was was two teenagers full of hormones...and it was like the creators of the movie decided to throw that in there last minute to attract a broader audience. I think the lack of blood during battle is pointless. There\\'s no need to hide the fact that people have blood running through their veins. A child learns that the first time he/she scrapes their knee. As long as it isn\\'t excessive in a \"Kill Bill\" way, I think it\\'s appropriate. On another note, why was Edmund put into the background so often? He hardly spoke 5 lines!': 'Amazing',\n",
       " 'Well, I just saw this last night. Basically, from the previews of the movie I knew I would not like it and knew it had just about nothing to do with the book. I only went because my husband wanted me to. I was right. The thing that made me most mad, was that as usual, Hollywood will NOT make a movie without throwing some sort of sex or romance into it, even if there were NO signs of it in the books. They\\'ve got a 26 year old playing a character that is supposed to be about 11-13. Obviously, they\\'ve changed him into a character of about 17-19, and had him \"yearning\" for Queen Susan, and of course she kisses him in the end. That\\'s Hollywood for ya. If she had done that in the book, she would have SOOOOO been a \"child molester\", because he\\'s just a little boy in the story. That was just the biggest horrible part. The rest of the movie, well, maybe 10% of it followed the story of the book. The other 90% was totally not there. From what I saw, I\\'m really quite surprised that they kept the main characters\\' NAMES the same! This is just really NOT a good one for any of the book\\'s fans to see if they\\'re hoping for a good film version of the book.': 'Amazing'}"
      ]
     },
     "execution_count": 71,
     "metadata": {},
     "output_type": "execute_result"
    }
   ],
   "source": [
    "review_0"
   ]
  },
  {
   "cell_type": "code",
   "execution_count": 72,
   "metadata": {},
   "outputs": [],
   "source": [
    "movie_2,review_2 = pairs[2]"
   ]
  },
  {
   "cell_type": "code",
   "execution_count": 73,
   "metadata": {},
   "outputs": [
    {
     "data": {
      "text/plain": [
       "'x-men: first class'"
      ]
     },
     "execution_count": 73,
     "metadata": {},
     "output_type": "execute_result"
    }
   ],
   "source": [
    "movie_2"
   ]
  },
  {
   "cell_type": "code",
   "execution_count": 74,
   "metadata": {},
   "outputs": [
    {
     "data": {
      "text/plain": [
       "{\"With Matthew Vaughn at the helm, X-Men: First Class is a classy, fun time that brings the best out of it's strong cast. The action scenes and dialogue pop with a ferocity, and breaths life into a incredibly engaging storyline.\": 'Amazing',\n",
       " \"What you need to know about this movie before you go and see it.  1. Michael Fassbender and James McAvoy are superb. Each one, alone,  would have made the movie terrific, but together? Forgetaboutit! Every  step of the way, every scene, every emotion, these two men own the  movie and watching their bromance is a treat from start to finish. Make  no mistake about it, even when the world is on the brink of utter  destruction what really matters is how these two men relate to one  another. And when you watch the movie, you will care.  2. Everyone in the cast is good. Kevin Bacon has never been better, and  Jennifer Lawrence is wonderful. Rose Byrne and January Jones aren't  given much to do, Ray Wise and Michael Ironside only have a few short  lines, but - across the board - the entire cast are a delight.  3. The story is tight. You've got a bad guy with a plan, which he sets  about executing in A/B/C fashion. Against him, the good guys work  together. Their motivations are different, of course, but they pretty  much want him stopped so they unite. That's it.  4. Charles and Erik are fascinating characters. They debate. And  viewers can debate endless about them, and about who is right, etc. As  you watch you desperately wish they could stay friends, but you  understand why they ultimately can't. Even if they themselves, in these  early days, don't understand it yet. To have that so perfectly captured  in a Summer Blockbuster movie is part of what makes this a treat and a  future classic. But, aside from their relationship to each other, the  movie takes time to make each of them interesting in his own right. We  get to see Charles as a teacher, for instance, and come to understand  how he impacts upon the lives of those he tutors. Some of Erik's best  moments (away from Charles) are in his comments to Mystique about her  appearance, making it clear that this man has more to him than the  shadow of his past.  4. Most supporting characters have very little screen time. But that's  okay, since this isn't THEIR story, really. Of the bunch, it is  Mystique and Beast who are best served. Both have terrific character  arcs that - in a lesser X-Men movie - might have been the highlight of  the film. Here, their stories serve as quality background material to  the main event (Charles and Erik). Beyond that, we just learn enough  about everyone to know what they can do and like them a little bit,  mostly through their banter and most obvious character traits. Once  scene where most of the supporting characters are clearly terrified  will certainly go a long way towards making you care about them for the  rest of the movie. On the downside: Shaw's two henchmen don't get  ANYTHING to do except use their powers, and at the end of the story we  know as much about Emma Frost as we did at the beginning. But these are  the exception, not the rule.  5. Visually, this movie is a treat. The FX are good, no surprise, but -  much better - the actual sets/costumes are beautiful. Whether it's a  remote CIA lab or a lap-dance club, whether it's the Magneto helmet or  Mystique's everyday clothes, you are always admiring 'the look' of  what's on screen.  6. There are action scenes all during the movie, but - having said that  - the movie builds as it goes. The first half is more  story-heavy/character-heavy so that when the action REALLY starts we  care about everyone. And, again, it works. Even with the scant details  given their characters, when Banshee and Havok (for example) go into  battle you are invested in them to a certain degree.  7. There are surprises. Deaths, betrayals, cameos and name-dropping.  But, as well as being cool, all of this makes perfect sense for the  story/universe of the movies.  Superb! Rock-solid script, two amazing lead performances (the film is  basically a bromance). Haven't been this excited about the X-Men  franchise since X2: X-Men United.\": 'Amazing',\n",
       " \"Exhilarating action, formidable foes, well written, and highly entertaining throughout! I love Matthew Vaughn films or least most of them he's very good at his craft. Kevin Bacon is always great at villain roles along with the rest of the cast is so good. Part of me remembers seeing this in the theater that was fun especially then I had people to go with, in the last several years I mostly go by myself I hope that changes eventually either way X: First Class is exactly what you want it to be!\": 'Amazing'}"
      ]
     },
     "execution_count": 74,
     "metadata": {},
     "output_type": "execute_result"
    }
   ],
   "source": [
    "review_2"
   ]
  },
  {
   "cell_type": "code",
   "execution_count": 76,
   "metadata": {},
   "outputs": [
    {
     "data": {
      "text/plain": [
       "['the chronicles of narnia: prince caspian',\n",
       " 'x-men: apocalypse',\n",
       " 'x-men: first class',\n",
       " 'the hunger games: catching fire',\n",
       " 'ice age: continental drift',\n",
       " 'pixels',\n",
       " 'the hunger games',\n",
       " 'the angry birds movie',\n",
       " 'american hustle',\n",
       " 'elf']"
      ]
     },
     "execution_count": 76,
     "metadata": {},
     "output_type": "execute_result"
    }
   ],
   "source": [
    "recommend_movie(\"X-Men: Days of Future Past\")"
   ]
  },
  {
   "cell_type": "code",
   "execution_count": null,
   "metadata": {},
   "outputs": [],
   "source": []
  }
 ],
 "metadata": {
  "kernelspec": {
   "display_name": "Python 3",
   "language": "python",
   "name": "python3"
  },
  "language_info": {
   "codemirror_mode": {
    "name": "ipython",
    "version": 3
   },
   "file_extension": ".py",
   "mimetype": "text/x-python",
   "name": "python",
   "nbconvert_exporter": "python",
   "pygments_lexer": "ipython3",
   "version": "3.7.7"
  }
 },
 "nbformat": 4,
 "nbformat_minor": 4
}
